{
 "cells": [
  {
   "cell_type": "markdown",
   "metadata": {},
   "source": [
    "# Week 3 group activities"
   ]
  },
  {
   "cell_type": "markdown",
   "metadata": {
    "id": "b4bLCSuSxzvL"
   },
   "source": [
    "## Introduction to group coding exercises\n",
    "Today you’ll work on this exercise in the same group of 3-4 as last week, submitting a single notebook file at the end of the class period. Decide amongst yourselves which member will upload the completed notebook to Gradescope this week. Make sure that everyone takes a turn being the “Uploader”. _You cannot upload the final code two weeks in a row._\n",
    "\n",
    "### Workflow\n",
    "Each question will be timed to ensure that everyone gets to work on at least a part of every question. Group activities are not graded by completeness or correctness, but by effort. We will be breaking down each question in the following order:  \n",
    "1. Independent work \n",
    "2. Group work and discussion on coding question\n",
    "3. Group work and discussion on reflection questions\n",
    "\n",
    "You are welcome and encouraged to communicate with other groups and the teaching team when you feel stuck on a problem. \n",
    "\n",
    "As a reminder, we will be grading based best practices in coding. These include: \n",
    "1) Variables are used to store objects\n",
    "\n",
    "2) Make sure that your variable names are meaningful\n",
    "\n",
    "3) Format your code consistently\n",
    "\n",
    "4) Add comments to document your intention, as well as (less commonly) tricky implementation\n",
    "\n",
    "5) Documenting help from outside sources, such as from other groups or online documentation. \n",
    "\n",
    "6) Final notebook fully runs from start to finish. A good way to check this is restarting the kernel and fully running through all the cells to check for any errors."
   ]
  },
  {
   "cell_type": "markdown",
   "metadata": {
    "id": "phOLyDmYBYSC"
   },
   "source": [
    "## Note here **and in the Gradescope submission** each of your group members:\n",
    "1.\n",
    "2. \n",
    "3."
   ]
  },
  {
   "cell_type": "markdown",
   "metadata": {
    "deletable": false,
    "editable": false,
    "id": "PElYP-rw-5j3"
   },
   "source": [
    "<!-- BEGIN QUESTION -->\n",
    "\n",
    "## Question #1: Code Etiquette & Debugging Strategies (5 min)"
   ]
  },
  {
   "cell_type": "markdown",
   "metadata": {
    "deletable": false,
    "editable": false,
    "id": "PElYP-rw-5j3"
   },
   "source": [
    "In a Markdown cell, list three best-practice rules for writing clear, maintainable Python code (e.g. naming conventions, comments, consistent style)."
   ]
  },
  {
   "cell_type": "markdown",
   "metadata": {
    "tags": [
     "otter_answer_cell"
    ]
   },
   "source": [
    "1) _Type your answers here, replacing this text_\n",
    "2) _Type your answers here, replacing this text_\n",
    "3) _Type your answers here, replacing this text_"
   ]
  },
  {
   "cell_type": "markdown",
   "metadata": {
    "deletable": false,
    "editable": false
   },
   "source": [
    "<!-- END QUESTION -->\n",
    "\n",
    "<!-- BEGIN QUESTION -->\n",
    "\n",
    "## Question #2: if-elif-else statements (25 minutes)"
   ]
  },
  {
   "cell_type": "markdown",
   "metadata": {
    "deletable": false,
    "editable": false
   },
   "source": [
    "### Using if-elif-else statements for absolute values\n",
    "Recall that absolute value means the magnitude, or distance, of a number from 0 without regard to its sign. For example:\n",
    "\n",
    "| 5 | = 5\n",
    "\n",
    "| –5 | = 5\n",
    "\n",
    "| 0 | = 0\n",
    "\n",
    "### Instructions\n",
    "Use *if* and/or *elif* and/or *else* statements to calculate the value of the expression `||x| - y|`. Store its value into the `abs_value` answer variable and print it. Experiment your code with different values of `x` and `y` (just keep one pair in your final code)\n",
    "\n",
    "**Note**: There are multiple approaches for this, so choose the one that works best for your group."
   ]
  },
  {
   "cell_type": "markdown",
   "metadata": {
    "deletable": false,
    "editable": false
   },
   "source": [
    "Type your answer in the cell below:"
   ]
  },
  {
   "cell_type": "code",
   "execution_count": null,
   "metadata": {
    "tags": [
     "otter_answer_cell"
    ]
   },
   "outputs": [],
   "source": [
    "# Your code here\n"
   ]
  },
  {
   "cell_type": "markdown",
   "metadata": {
    "deletable": false,
    "editable": false
   },
   "source": [
    "<!-- END QUESTION -->\n",
    "\n",
    "## Q.2 Reflection questions (5 minutes)"
   ]
  },
  {
   "cell_type": "markdown",
   "metadata": {},
   "source": [
    "The purpose of the reflection is to inform us as instructors about students comfort level with course content. We use these answers to inform how we spend class time and design coursework in subsequent weeks. This question is graded for completeness, so please answer each question in the text box below. Be concise in your answers (max. 2 sentences). \n",
    "\n",
    "1) What do you feel you excelled at in this exercise? Why?\n",
    "\n",
    "2) What did you struggle with most in the exercise? Why?\n",
    "\n",
    "3) Is there any section of the question that you did not complete? If so, briefly describe why and the section you spent the most time on. \n",
    "\n",
    "4) Is there any topic you feel we need to revisit or review in class? Why?"
   ]
  },
  {
   "cell_type": "markdown",
   "metadata": {},
   "source": [
    "1)\n",
    "2)\n",
    "3)\n",
    "4)"
   ]
  },
  {
   "cell_type": "markdown",
   "metadata": {
    "deletable": false,
    "editable": false
   },
   "source": [
    "<!-- BEGIN QUESTION -->\n",
    "\n",
    "## Question #3: Classify Sea Surface Temperatures (35 minutes)"
   ]
  },
  {
   "cell_type": "markdown",
   "metadata": {
    "deletable": false,
    "editable": false
   },
   "source": [
    "You have a list of daily sea-surface temperatures (SST) for January in °C, with some missing or obviously bad values:"
   ]
  },
  {
   "cell_type": "code",
   "execution_count": null,
   "metadata": {
    "deletable": false,
    "editable": false,
    "slideshow": {
     "slide_type": ""
    },
    "tags": []
   },
   "outputs": [],
   "source": [
    "sst_readings = [26.1, 27.5, None, 40.2, 25.8, 24.9, -3.0, 28.4, 27.9] # Leave this block untouched"
   ]
  },
  {
   "cell_type": "markdown",
   "metadata": {
    "deletable": false,
    "editable": false,
    "slideshow": {
     "slide_type": ""
    },
    "tags": []
   },
   "source": [
    "### Instructions\n",
    "\n",
    "Using a **single loop** over `sst_readings`, together with conditional(s) inside the loop, classifies each value as valid if it is not `None` and between −2 °C and 35 °C (inclusive). Create / update variables inside your loop so that, after the loop, you can print out:\n",
    "\n",
    " - The **list** of *valid* readings\n",
    " - The **number** of *valid* readings\n",
    " - The **number** of *missing* readings\n",
    " - The **number** of *out-of-range* readings\n",
    "\n",
    "**Note**: You should design your code so that even if `sst_readings` is changed it will produce the correct results (i.e., don't rely on knoweldge _specific_ to our instance of `sst_readings`)\n",
    "\n",
    "**Hint #1**: start with one task and slowly build up your code\n",
    "\n",
    "**Hint #2**: You may find the variables defined outside the loop in your starter code useful"
   ]
  },
  {
   "cell_type": "code",
   "execution_count": null,
   "metadata": {
    "tags": [
     "otter_answer_cell"
    ]
   },
   "outputs": [],
   "source": [
    "valid_sst = []\n",
    "missing = 0 \n",
    "out_of_range = 0\n",
    "\n",
    "# YOUR loop and conditional block\n",
    "\n",
    "\n",
    "\n",
    "print(\"Valid readings:\")\n",
    "print(\"Number of valid readings:\")\n",
    "\n",
    "print(\"Number of Missing readings:\")\n",
    "print(\"Number of out-of-range readings:\")"
   ]
  },
  {
   "cell_type": "markdown",
   "metadata": {
    "deletable": false,
    "editable": false
   },
   "source": [
    "<!-- END QUESTION -->\n",
    "\n",
    "## Q.3 Reflection questions (5 minutes)"
   ]
  },
  {
   "cell_type": "markdown",
   "metadata": {},
   "source": [
    "The purpose of the reflection is to inform us as instructors about students comfort level with course content. We use these answers to inform how we spend class time and design coursework in subsequent weeks. This question is graded for completeness, so please answer each question in the text box below. Be concise in your answers (max. 2 sentences). \n",
    "\n",
    "1) What do you feel you excelled at in this exercise? Why?\n",
    "\n",
    "2) What did you struggle with most in the exercise? Why?\n",
    "\n",
    "3) Is there any section of the question that you did not complete? If so, briefly describe why and the section you spent the most time on. \n",
    "\n",
    "4) Is there any topic you feel we need to revisit or review in class? Why?"
   ]
  },
  {
   "cell_type": "markdown",
   "metadata": {},
   "source": [
    "1)\n",
    "\n",
    "2)\n",
    "\n",
    "3)\n",
    "\n",
    "4)"
   ]
  },
  {
   "cell_type": "markdown",
   "metadata": {
    "deletable": false,
    "editable": false,
    "id": "hqhssdm5ADYy"
   },
   "source": [
    "<!-- BEGIN QUESTION -->\n",
    "\n",
    "## Question #4: Data Appraisal (20 minutes)"
   ]
  },
  {
   "cell_type": "markdown",
   "metadata": {
    "deletable": false,
    "editable": false,
    "id": "hqhssdm5ADYy"
   },
   "source": [
    "In a Markdown cell, imagine you have to answer this question for your term project:\n",
    "\n",
    "“How have sea surface temperatures changed in the equatorial Pacific Ocean over the last 20 years?”\n",
    "\n",
    "Research possible datasets online to be used to answer this question. Find one dataset that you think is best and compare with another group nearby."
   ]
  },
  {
   "cell_type": "markdown",
   "metadata": {
    "deletable": false,
    "editable": false
   },
   "source": [
    "In the markdown cell below, write down your two sources of data:"
   ]
  },
  {
   "cell_type": "markdown",
   "metadata": {
    "deletable": false,
    "editable": false
   },
   "source": [
    "_Your answers, replacing this markdown cell_"
   ]
  },
  {
   "cell_type": "markdown",
   "metadata": {
    "deletable": false,
    "editable": false,
    "id": "hqhssdm5ADYy"
   },
   "source": [
    "With the other group, discuss similarities/differences in:\n",
    "\n",
    "- Temporal resolution\n",
    "- Spatial resolution\n",
    "- Where does your data come from? (e.g. model, reanalysis, observations,...)\n",
    "- Why you think your dataset would work best"
   ]
  },
  {
   "cell_type": "markdown",
   "metadata": {
    "tags": [
     "otter_answer_cell"
    ]
   },
   "source": [
    "_Type your answers here, replacing this text_"
   ]
  },
  {
   "cell_type": "markdown",
   "metadata": {
    "deletable": false,
    "editable": false,
    "id": "BbB4gLiGAyOd"
   },
   "source": [
    "<!-- END QUESTION -->\n",
    "\n",
    "## Q.4 Reflection questions (5 minutes)"
   ]
  },
  {
   "cell_type": "markdown",
   "metadata": {
    "id": "BbB4gLiGAyOd"
   },
   "source": [
    "The purpose of the reflection is to inform us as instructors about students comfort level with course content. We use these answers to inform how we spend class time and design coursework in subsequent weeks. This question is graded for completeness, so please answer each question in the text box below. Be concise in your answers (max. 2 sentences). \n",
    "\n",
    "1) What do you feel you excelled at in this exercise? Why?\n",
    "\n",
    "2) What did you struggle with most in the exercise? Why?\n",
    "\n",
    "3) Is there any section of the question that you did not complete? If so, briefly describe why and the section you spent the most time on. \n",
    "\n",
    "4) Is there any topic you feel we need to revisit or review in class? Why?"
   ]
  },
  {
   "cell_type": "markdown",
   "metadata": {
    "id": "iELCUcUYA5np"
   },
   "source": [
    "1)\n",
    "\n",
    "2)\n",
    "\n",
    "3)\n",
    "\n",
    "4)"
   ]
  },
  {
   "cell_type": "markdown",
   "metadata": {
    "deletable": false,
    "editable": false
   },
   "source": [
    "## Check that your codes run without errors (2 points)"
   ]
  },
  {
   "cell_type": "markdown",
   "metadata": {
    "deletable": false,
    "editable": false,
    "otter": {
     "tests": [
      "completion"
     ]
    }
   },
   "source": [
    "Please check that your code runs without error when the notebook is executed from top to bottom. You may find the \"Restart the kernel and run all cells\" option (selectable using the `⏩` icon) useful."
   ]
  },
  {
   "cell_type": "code",
   "execution_count": null,
   "metadata": {},
   "outputs": [],
   "source": []
  }
 ],
 "metadata": {
  "colab": {
   "provenance": []
  },
  "kernelspec": {
   "display_name": "Python 3 (ipykernel)",
   "language": "python",
   "name": "python3"
  },
  "language_info": {
   "codemirror_mode": {
    "name": "ipython",
    "version": 3
   },
   "file_extension": ".py",
   "mimetype": "text/x-python",
   "name": "python",
   "nbconvert_exporter": "python",
   "pygments_lexer": "ipython3",
   "version": "3.11.13"
  },
  "otter": {
   "OK_FORMAT": true,
   "tests": {
    "completion": {
     "name": "completion",
     "points": 0,
     "suites": [
      {
       "cases": [],
       "scored": true,
       "setup": "",
       "teardown": "",
       "type": "doctest"
      }
     ]
    }
   }
  }
 },
 "nbformat": 4,
 "nbformat_minor": 4
}
